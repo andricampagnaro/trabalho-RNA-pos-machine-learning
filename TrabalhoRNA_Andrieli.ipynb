{
  "nbformat": 4,
  "nbformat_minor": 0,
  "metadata": {
    "kernelspec": {
      "display_name": "Python 3",
      "language": "python",
      "name": "python3"
    },
    "language_info": {
      "codemirror_mode": {
        "name": "ipython",
        "version": 3
      },
      "file_extension": ".py",
      "mimetype": "text/x-python",
      "name": "python",
      "nbconvert_exporter": "python",
      "pygments_lexer": "ipython3",
      "version": "3.7.3"
    },
    "colab": {
      "name": "TrabalhoRNA Andrieli.ipynb",
      "provenance": [],
      "collapsed_sections": [],
      "toc_visible": true
    },
    "widgets": {
      "application/vnd.jupyter.widget-state+json": {
        "2dd16db13ebd470b8b1bbb9208460924": {
          "model_module": "@jupyter-widgets/controls",
          "model_name": "HBoxModel",
          "state": {
            "_view_name": "HBoxView",
            "_dom_classes": [],
            "_model_name": "HBoxModel",
            "_view_module": "@jupyter-widgets/controls",
            "_model_module_version": "1.5.0",
            "_view_count": null,
            "_view_module_version": "1.5.0",
            "box_style": "",
            "layout": "IPY_MODEL_7a4ba54184284ddfb97d3a2c3718df45",
            "_model_module": "@jupyter-widgets/controls",
            "children": [
              "IPY_MODEL_59b98c9bcb2f4296a45622684678eb41",
              "IPY_MODEL_df28a59bda83468ab2b279093415d856"
            ]
          }
        },
        "7a4ba54184284ddfb97d3a2c3718df45": {
          "model_module": "@jupyter-widgets/base",
          "model_name": "LayoutModel",
          "state": {
            "_view_name": "LayoutView",
            "grid_template_rows": null,
            "right": null,
            "justify_content": null,
            "_view_module": "@jupyter-widgets/base",
            "overflow": null,
            "_model_module_version": "1.2.0",
            "_view_count": null,
            "flex_flow": null,
            "width": null,
            "min_width": null,
            "border": null,
            "align_items": null,
            "bottom": null,
            "_model_module": "@jupyter-widgets/base",
            "top": null,
            "grid_column": null,
            "overflow_y": null,
            "overflow_x": null,
            "grid_auto_flow": null,
            "grid_area": null,
            "grid_template_columns": null,
            "flex": null,
            "_model_name": "LayoutModel",
            "justify_items": null,
            "grid_row": null,
            "max_height": null,
            "align_content": null,
            "visibility": null,
            "align_self": null,
            "height": null,
            "min_height": null,
            "padding": null,
            "grid_auto_rows": null,
            "grid_gap": null,
            "max_width": null,
            "order": null,
            "_view_module_version": "1.2.0",
            "grid_template_areas": null,
            "object_position": null,
            "object_fit": null,
            "grid_auto_columns": null,
            "margin": null,
            "display": null,
            "left": null
          }
        },
        "59b98c9bcb2f4296a45622684678eb41": {
          "model_module": "@jupyter-widgets/controls",
          "model_name": "FloatProgressModel",
          "state": {
            "_view_name": "ProgressView",
            "style": "IPY_MODEL_4150202fd4614650a3a6633272f83d78",
            "_dom_classes": [],
            "description": "100%",
            "_model_name": "FloatProgressModel",
            "bar_style": "success",
            "max": 6000,
            "_view_module": "@jupyter-widgets/controls",
            "_model_module_version": "1.5.0",
            "value": 6000,
            "_view_count": null,
            "_view_module_version": "1.5.0",
            "orientation": "horizontal",
            "min": 0,
            "description_tooltip": null,
            "_model_module": "@jupyter-widgets/controls",
            "layout": "IPY_MODEL_43563359c1314fd9b7d748b0a36ebf97"
          }
        },
        "df28a59bda83468ab2b279093415d856": {
          "model_module": "@jupyter-widgets/controls",
          "model_name": "HTMLModel",
          "state": {
            "_view_name": "HTMLView",
            "style": "IPY_MODEL_bdc0eb6107674035a529c65570f69731",
            "_dom_classes": [],
            "description": "",
            "_model_name": "HTMLModel",
            "placeholder": "​",
            "_view_module": "@jupyter-widgets/controls",
            "_model_module_version": "1.5.0",
            "value": " 6000/6000 [00:42&lt;00:00, 142.52it/s]",
            "_view_count": null,
            "_view_module_version": "1.5.0",
            "description_tooltip": null,
            "_model_module": "@jupyter-widgets/controls",
            "layout": "IPY_MODEL_1746f380adfa4c74b86dcf361ccb8534"
          }
        },
        "4150202fd4614650a3a6633272f83d78": {
          "model_module": "@jupyter-widgets/controls",
          "model_name": "ProgressStyleModel",
          "state": {
            "_view_name": "StyleView",
            "_model_name": "ProgressStyleModel",
            "description_width": "initial",
            "_view_module": "@jupyter-widgets/base",
            "_model_module_version": "1.5.0",
            "_view_count": null,
            "_view_module_version": "1.2.0",
            "bar_color": null,
            "_model_module": "@jupyter-widgets/controls"
          }
        },
        "43563359c1314fd9b7d748b0a36ebf97": {
          "model_module": "@jupyter-widgets/base",
          "model_name": "LayoutModel",
          "state": {
            "_view_name": "LayoutView",
            "grid_template_rows": null,
            "right": null,
            "justify_content": null,
            "_view_module": "@jupyter-widgets/base",
            "overflow": null,
            "_model_module_version": "1.2.0",
            "_view_count": null,
            "flex_flow": null,
            "width": null,
            "min_width": null,
            "border": null,
            "align_items": null,
            "bottom": null,
            "_model_module": "@jupyter-widgets/base",
            "top": null,
            "grid_column": null,
            "overflow_y": null,
            "overflow_x": null,
            "grid_auto_flow": null,
            "grid_area": null,
            "grid_template_columns": null,
            "flex": null,
            "_model_name": "LayoutModel",
            "justify_items": null,
            "grid_row": null,
            "max_height": null,
            "align_content": null,
            "visibility": null,
            "align_self": null,
            "height": null,
            "min_height": null,
            "padding": null,
            "grid_auto_rows": null,
            "grid_gap": null,
            "max_width": null,
            "order": null,
            "_view_module_version": "1.2.0",
            "grid_template_areas": null,
            "object_position": null,
            "object_fit": null,
            "grid_auto_columns": null,
            "margin": null,
            "display": null,
            "left": null
          }
        },
        "bdc0eb6107674035a529c65570f69731": {
          "model_module": "@jupyter-widgets/controls",
          "model_name": "DescriptionStyleModel",
          "state": {
            "_view_name": "StyleView",
            "_model_name": "DescriptionStyleModel",
            "description_width": "",
            "_view_module": "@jupyter-widgets/base",
            "_model_module_version": "1.5.0",
            "_view_count": null,
            "_view_module_version": "1.2.0",
            "_model_module": "@jupyter-widgets/controls"
          }
        },
        "1746f380adfa4c74b86dcf361ccb8534": {
          "model_module": "@jupyter-widgets/base",
          "model_name": "LayoutModel",
          "state": {
            "_view_name": "LayoutView",
            "grid_template_rows": null,
            "right": null,
            "justify_content": null,
            "_view_module": "@jupyter-widgets/base",
            "overflow": null,
            "_model_module_version": "1.2.0",
            "_view_count": null,
            "flex_flow": null,
            "width": null,
            "min_width": null,
            "border": null,
            "align_items": null,
            "bottom": null,
            "_model_module": "@jupyter-widgets/base",
            "top": null,
            "grid_column": null,
            "overflow_y": null,
            "overflow_x": null,
            "grid_auto_flow": null,
            "grid_area": null,
            "grid_template_columns": null,
            "flex": null,
            "_model_name": "LayoutModel",
            "justify_items": null,
            "grid_row": null,
            "max_height": null,
            "align_content": null,
            "visibility": null,
            "align_self": null,
            "height": null,
            "min_height": null,
            "padding": null,
            "grid_auto_rows": null,
            "grid_gap": null,
            "max_width": null,
            "order": null,
            "_view_module_version": "1.2.0",
            "grid_template_areas": null,
            "object_position": null,
            "object_fit": null,
            "grid_auto_columns": null,
            "margin": null,
            "display": null,
            "left": null
          }
        }
      }
    }
  },
  "cells": [
    {
      "cell_type": "markdown",
      "metadata": {
        "id": "w06uuFrIsB0M"
      },
      "source": [
        "## Modelo para o Sensor CEI\n",
        "\n",
        "Este dataset **\"DataCEI.csv\"** possui informações dispostas em colunas sobre as características dos objetos que passam pelo sensor:\n",
        "\n",
        "* **Tamanho**:  Segue a classificação do CEI2020 (Tamanho='0' - Grande 100%).\n",
        "* **Referencia**:  Referência dinâmica do *Threshold.\n",
        "* **NumAmostra**:  Número de amostras adquiridas.\n",
        "* **Area**:  Somatório das Amplitudes das amostras.\n",
        "* **Delta**:  Máxima Amplitude da amostra.\n",
        "* **Output1**:  Peça tipo 1.\n",
        "* **Output2**:  Peça tipo 2.\n",
        "\n",
        "\n",
        "\n",
        "### Bibliotecas"
      ]
    },
    {
      "cell_type": "code",
      "metadata": {
        "id": "f0EsU8TesB0P"
      },
      "source": [
        "import pandas as pd\n",
        "import numpy as np\n",
        "import matplotlib.pyplot as plt\n",
        "import seaborn as sns\n",
        "%matplotlib inline\n",
        "\n",
        "#Função do cáculo da sigmóide\n",
        "def sigmoid(x):\n",
        "    return 1/(1+np.exp(-x))"
      ],
      "execution_count": 1,
      "outputs": []
    },
    {
      "cell_type": "markdown",
      "metadata": {
        "id": "liOeJl6UsB0P"
      },
      "source": [
        "### Carregando os dados\n",
        "\n",
        "Vamos começar lendo o arquivo DataCEI.csv em um dataframe do pandas."
      ]
    },
    {
      "cell_type": "code",
      "metadata": {
        "id": "e62ynzVSsB0Q"
      },
      "source": [
        "DataSet=pd.read_csv('arruela_.csv')"
      ],
      "execution_count": 2,
      "outputs": []
    },
    {
      "cell_type": "code",
      "metadata": {
        "colab": {
          "base_uri": "https://localhost:8080/",
          "height": 204
        },
        "id": "spIXTjXQsB0Q",
        "outputId": "8fc81b1d-4d46-4a72-965f-188a937aee76"
      },
      "source": [
        "DataSet.head()"
      ],
      "execution_count": 3,
      "outputs": [
        {
          "output_type": "execute_result",
          "data": {
            "text/html": [
              "<div>\n",
              "<style scoped>\n",
              "    .dataframe tbody tr th:only-of-type {\n",
              "        vertical-align: middle;\n",
              "    }\n",
              "\n",
              "    .dataframe tbody tr th {\n",
              "        vertical-align: top;\n",
              "    }\n",
              "\n",
              "    .dataframe thead th {\n",
              "        text-align: right;\n",
              "    }\n",
              "</style>\n",
              "<table border=\"1\" class=\"dataframe\">\n",
              "  <thead>\n",
              "    <tr style=\"text-align: right;\">\n",
              "      <th></th>\n",
              "      <th>Hora</th>\n",
              "      <th>Tamanho</th>\n",
              "      <th>Referencia</th>\n",
              "      <th>NumAmostra</th>\n",
              "      <th>Area</th>\n",
              "      <th>Delta</th>\n",
              "      <th>Output1</th>\n",
              "      <th>Output2</th>\n",
              "    </tr>\n",
              "  </thead>\n",
              "  <tbody>\n",
              "    <tr>\n",
              "      <th>0</th>\n",
              "      <td>13:00:06</td>\n",
              "      <td>53</td>\n",
              "      <td>25</td>\n",
              "      <td>69</td>\n",
              "      <td>81</td>\n",
              "      <td>68</td>\n",
              "      <td>1</td>\n",
              "      <td>0</td>\n",
              "    </tr>\n",
              "    <tr>\n",
              "      <th>1</th>\n",
              "      <td>13:00:07</td>\n",
              "      <td>53</td>\n",
              "      <td>26</td>\n",
              "      <td>89</td>\n",
              "      <td>87</td>\n",
              "      <td>56</td>\n",
              "      <td>1</td>\n",
              "      <td>0</td>\n",
              "    </tr>\n",
              "    <tr>\n",
              "      <th>2</th>\n",
              "      <td>13:00:08</td>\n",
              "      <td>53</td>\n",
              "      <td>27</td>\n",
              "      <td>68</td>\n",
              "      <td>69</td>\n",
              "      <td>55</td>\n",
              "      <td>1</td>\n",
              "      <td>0</td>\n",
              "    </tr>\n",
              "    <tr>\n",
              "      <th>3</th>\n",
              "      <td>13:00:09</td>\n",
              "      <td>53</td>\n",
              "      <td>28</td>\n",
              "      <td>36</td>\n",
              "      <td>50</td>\n",
              "      <td>80</td>\n",
              "      <td>1</td>\n",
              "      <td>0</td>\n",
              "    </tr>\n",
              "    <tr>\n",
              "      <th>4</th>\n",
              "      <td>13:00:10</td>\n",
              "      <td>53</td>\n",
              "      <td>29</td>\n",
              "      <td>71</td>\n",
              "      <td>72</td>\n",
              "      <td>50</td>\n",
              "      <td>1</td>\n",
              "      <td>0</td>\n",
              "    </tr>\n",
              "  </tbody>\n",
              "</table>\n",
              "</div>"
            ],
            "text/plain": [
              "       Hora  Tamanho  Referencia  NumAmostra  Area  Delta  Output1  Output2\n",
              "0  13:00:06       53          25          69    81     68        1        0\n",
              "1  13:00:07       53          26          89    87     56        1        0\n",
              "2  13:00:08       53          27          68    69     55        1        0\n",
              "3  13:00:09       53          28          36    50     80        1        0\n",
              "4  13:00:10       53          29          71    72     50        1        0"
            ]
          },
          "metadata": {
            "tags": []
          },
          "execution_count": 3
        }
      ]
    },
    {
      "cell_type": "code",
      "metadata": {
        "colab": {
          "base_uri": "https://localhost:8080/"
        },
        "id": "Xg8w5-jFnCBp",
        "outputId": "70b10c23-77de-4082-e9ae-e60d0254d1a0"
      },
      "source": [
        "DataSet['Tamanho'].unique()"
      ],
      "execution_count": 4,
      "outputs": [
        {
          "output_type": "execute_result",
          "data": {
            "text/plain": [
              "array([53, 64])"
            ]
          },
          "metadata": {
            "tags": []
          },
          "execution_count": 4
        }
      ]
    },
    {
      "cell_type": "code",
      "metadata": {
        "colab": {
          "base_uri": "https://localhost:8080/"
        },
        "id": "roUC9mDLmXZN",
        "outputId": "67ef21f3-38eb-446c-a64a-e16ca69f509a"
      },
      "source": [
        "DataSet['Referencia'].unique()"
      ],
      "execution_count": 5,
      "outputs": [
        {
          "output_type": "execute_result",
          "data": {
            "text/plain": [
              "array([25, 26, 27, 28, 29, 30, 31, 32, 33, 34, 35, 36, 37, 38, 39, 40, 41,\n",
              "       42, 43, 44, 45, 46, 47, 48, 49, 50, 51, 52, 53, 54, 55, 56, 57, 58,\n",
              "       59, 60, 62, 63, 64])"
            ]
          },
          "metadata": {
            "tags": []
          },
          "execution_count": 5
        }
      ]
    },
    {
      "cell_type": "code",
      "metadata": {
        "colab": {
          "base_uri": "https://localhost:8080/"
        },
        "id": "UscVCTkvm6ui",
        "outputId": "dc850356-624a-4ea0-857b-b222d2f42f4d"
      },
      "source": [
        "len(DataSet['Referencia'].unique())"
      ],
      "execution_count": 6,
      "outputs": [
        {
          "output_type": "execute_result",
          "data": {
            "text/plain": [
              "39"
            ]
          },
          "metadata": {
            "tags": []
          },
          "execution_count": 6
        }
      ]
    },
    {
      "cell_type": "code",
      "metadata": {
        "id": "7VploF8nmmBQ"
      },
      "source": [
        "# 3 features\n",
        "# DataSet.drop(['Hora','Tamanho','Referencia'],axis=1,inplace=True)"
      ],
      "execution_count": 7,
      "outputs": []
    },
    {
      "cell_type": "code",
      "metadata": {
        "id": "7QabvRqCsB0R"
      },
      "source": [
        "# 4 features\n",
        "# DataSet.drop(['Hora','Referencia'],axis=1,inplace=True)"
      ],
      "execution_count": 8,
      "outputs": []
    },
    {
      "cell_type": "code",
      "metadata": {
        "id": "zIOZvF7OumYi"
      },
      "source": [
        "# 5 features\n",
        "DataSet.drop(['Hora'],axis=1,inplace=True)"
      ],
      "execution_count": 9,
      "outputs": []
    },
    {
      "cell_type": "code",
      "metadata": {
        "colab": {
          "base_uri": "https://localhost:8080/",
          "height": 204
        },
        "id": "9CSV5UessB0R",
        "outputId": "eca7700e-2cc8-443a-88b3-1119bd61657c"
      },
      "source": [
        "DataSet.head()"
      ],
      "execution_count": 10,
      "outputs": [
        {
          "output_type": "execute_result",
          "data": {
            "text/html": [
              "<div>\n",
              "<style scoped>\n",
              "    .dataframe tbody tr th:only-of-type {\n",
              "        vertical-align: middle;\n",
              "    }\n",
              "\n",
              "    .dataframe tbody tr th {\n",
              "        vertical-align: top;\n",
              "    }\n",
              "\n",
              "    .dataframe thead th {\n",
              "        text-align: right;\n",
              "    }\n",
              "</style>\n",
              "<table border=\"1\" class=\"dataframe\">\n",
              "  <thead>\n",
              "    <tr style=\"text-align: right;\">\n",
              "      <th></th>\n",
              "      <th>Tamanho</th>\n",
              "      <th>Referencia</th>\n",
              "      <th>NumAmostra</th>\n",
              "      <th>Area</th>\n",
              "      <th>Delta</th>\n",
              "      <th>Output1</th>\n",
              "      <th>Output2</th>\n",
              "    </tr>\n",
              "  </thead>\n",
              "  <tbody>\n",
              "    <tr>\n",
              "      <th>0</th>\n",
              "      <td>53</td>\n",
              "      <td>25</td>\n",
              "      <td>69</td>\n",
              "      <td>81</td>\n",
              "      <td>68</td>\n",
              "      <td>1</td>\n",
              "      <td>0</td>\n",
              "    </tr>\n",
              "    <tr>\n",
              "      <th>1</th>\n",
              "      <td>53</td>\n",
              "      <td>26</td>\n",
              "      <td>89</td>\n",
              "      <td>87</td>\n",
              "      <td>56</td>\n",
              "      <td>1</td>\n",
              "      <td>0</td>\n",
              "    </tr>\n",
              "    <tr>\n",
              "      <th>2</th>\n",
              "      <td>53</td>\n",
              "      <td>27</td>\n",
              "      <td>68</td>\n",
              "      <td>69</td>\n",
              "      <td>55</td>\n",
              "      <td>1</td>\n",
              "      <td>0</td>\n",
              "    </tr>\n",
              "    <tr>\n",
              "      <th>3</th>\n",
              "      <td>53</td>\n",
              "      <td>28</td>\n",
              "      <td>36</td>\n",
              "      <td>50</td>\n",
              "      <td>80</td>\n",
              "      <td>1</td>\n",
              "      <td>0</td>\n",
              "    </tr>\n",
              "    <tr>\n",
              "      <th>4</th>\n",
              "      <td>53</td>\n",
              "      <td>29</td>\n",
              "      <td>71</td>\n",
              "      <td>72</td>\n",
              "      <td>50</td>\n",
              "      <td>1</td>\n",
              "      <td>0</td>\n",
              "    </tr>\n",
              "  </tbody>\n",
              "</table>\n",
              "</div>"
            ],
            "text/plain": [
              "   Tamanho  Referencia  NumAmostra  Area  Delta  Output1  Output2\n",
              "0       53          25          69    81     68        1        0\n",
              "1       53          26          89    87     56        1        0\n",
              "2       53          27          68    69     55        1        0\n",
              "3       53          28          36    50     80        1        0\n",
              "4       53          29          71    72     50        1        0"
            ]
          },
          "metadata": {
            "tags": []
          },
          "execution_count": 10
        }
      ]
    },
    {
      "cell_type": "code",
      "metadata": {
        "colab": {
          "base_uri": "https://localhost:8080/",
          "height": 297
        },
        "id": "3Pyq7XwesB0R",
        "outputId": "1811a66c-610b-4897-8cb7-ee03ac979733"
      },
      "source": [
        "DataSet.describe()"
      ],
      "execution_count": 11,
      "outputs": [
        {
          "output_type": "execute_result",
          "data": {
            "text/html": [
              "<div>\n",
              "<style scoped>\n",
              "    .dataframe tbody tr th:only-of-type {\n",
              "        vertical-align: middle;\n",
              "    }\n",
              "\n",
              "    .dataframe tbody tr th {\n",
              "        vertical-align: top;\n",
              "    }\n",
              "\n",
              "    .dataframe thead th {\n",
              "        text-align: right;\n",
              "    }\n",
              "</style>\n",
              "<table border=\"1\" class=\"dataframe\">\n",
              "  <thead>\n",
              "    <tr style=\"text-align: right;\">\n",
              "      <th></th>\n",
              "      <th>Tamanho</th>\n",
              "      <th>Referencia</th>\n",
              "      <th>NumAmostra</th>\n",
              "      <th>Area</th>\n",
              "      <th>Delta</th>\n",
              "      <th>Output1</th>\n",
              "      <th>Output2</th>\n",
              "    </tr>\n",
              "  </thead>\n",
              "  <tbody>\n",
              "    <tr>\n",
              "      <th>count</th>\n",
              "      <td>261.000000</td>\n",
              "      <td>261.000000</td>\n",
              "      <td>261.000000</td>\n",
              "      <td>261.000000</td>\n",
              "      <td>261.000000</td>\n",
              "      <td>261.000000</td>\n",
              "      <td>261.000000</td>\n",
              "    </tr>\n",
              "    <tr>\n",
              "      <th>mean</th>\n",
              "      <td>53.126437</td>\n",
              "      <td>58.310345</td>\n",
              "      <td>59.777778</td>\n",
              "      <td>63.697318</td>\n",
              "      <td>54.747126</td>\n",
              "      <td>0.375479</td>\n",
              "      <td>0.624521</td>\n",
              "    </tr>\n",
              "    <tr>\n",
              "      <th>std</th>\n",
              "      <td>1.174779</td>\n",
              "      <td>9.199888</td>\n",
              "      <td>17.293075</td>\n",
              "      <td>30.629366</td>\n",
              "      <td>35.548413</td>\n",
              "      <td>0.485177</td>\n",
              "      <td>0.485177</td>\n",
              "    </tr>\n",
              "    <tr>\n",
              "      <th>min</th>\n",
              "      <td>53.000000</td>\n",
              "      <td>25.000000</td>\n",
              "      <td>3.000000</td>\n",
              "      <td>6.000000</td>\n",
              "      <td>17.000000</td>\n",
              "      <td>0.000000</td>\n",
              "      <td>0.000000</td>\n",
              "    </tr>\n",
              "    <tr>\n",
              "      <th>25%</th>\n",
              "      <td>53.000000</td>\n",
              "      <td>54.000000</td>\n",
              "      <td>50.000000</td>\n",
              "      <td>46.000000</td>\n",
              "      <td>38.000000</td>\n",
              "      <td>0.000000</td>\n",
              "      <td>0.000000</td>\n",
              "    </tr>\n",
              "    <tr>\n",
              "      <th>50%</th>\n",
              "      <td>53.000000</td>\n",
              "      <td>64.000000</td>\n",
              "      <td>59.000000</td>\n",
              "      <td>56.000000</td>\n",
              "      <td>44.000000</td>\n",
              "      <td>0.000000</td>\n",
              "      <td>1.000000</td>\n",
              "    </tr>\n",
              "    <tr>\n",
              "      <th>75%</th>\n",
              "      <td>53.000000</td>\n",
              "      <td>64.000000</td>\n",
              "      <td>69.000000</td>\n",
              "      <td>68.000000</td>\n",
              "      <td>54.000000</td>\n",
              "      <td>1.000000</td>\n",
              "      <td>1.000000</td>\n",
              "    </tr>\n",
              "    <tr>\n",
              "      <th>max</th>\n",
              "      <td>64.000000</td>\n",
              "      <td>64.000000</td>\n",
              "      <td>120.000000</td>\n",
              "      <td>201.000000</td>\n",
              "      <td>251.000000</td>\n",
              "      <td>1.000000</td>\n",
              "      <td>1.000000</td>\n",
              "    </tr>\n",
              "  </tbody>\n",
              "</table>\n",
              "</div>"
            ],
            "text/plain": [
              "          Tamanho  Referencia  NumAmostra  ...       Delta     Output1     Output2\n",
              "count  261.000000  261.000000  261.000000  ...  261.000000  261.000000  261.000000\n",
              "mean    53.126437   58.310345   59.777778  ...   54.747126    0.375479    0.624521\n",
              "std      1.174779    9.199888   17.293075  ...   35.548413    0.485177    0.485177\n",
              "min     53.000000   25.000000    3.000000  ...   17.000000    0.000000    0.000000\n",
              "25%     53.000000   54.000000   50.000000  ...   38.000000    0.000000    0.000000\n",
              "50%     53.000000   64.000000   59.000000  ...   44.000000    0.000000    1.000000\n",
              "75%     53.000000   64.000000   69.000000  ...   54.000000    1.000000    1.000000\n",
              "max     64.000000   64.000000  120.000000  ...  251.000000    1.000000    1.000000\n",
              "\n",
              "[8 rows x 7 columns]"
            ]
          },
          "metadata": {
            "tags": []
          },
          "execution_count": 11
        }
      ]
    },
    {
      "cell_type": "markdown",
      "metadata": {
        "id": "8c45457NsB0S"
      },
      "source": [
        "### Váriaveis do *Dataset*"
      ]
    },
    {
      "cell_type": "code",
      "metadata": {
        "colab": {
          "base_uri": "https://localhost:8080/"
        },
        "id": "QFRycOhTsB0S",
        "outputId": "19f752ab-7f40-4f7e-ecfb-e3dc77b2334b"
      },
      "source": [
        "DataSet.columns"
      ],
      "execution_count": 12,
      "outputs": [
        {
          "output_type": "execute_result",
          "data": {
            "text/plain": [
              "Index(['Tamanho', 'Referencia', 'NumAmostra', 'Area', 'Delta', 'Output1',\n",
              "       'Output2'],\n",
              "      dtype='object')"
            ]
          },
          "metadata": {
            "tags": []
          },
          "execution_count": 12
        }
      ]
    },
    {
      "cell_type": "markdown",
      "metadata": {
        "id": "ONTTXDHYsB0T"
      },
      "source": [
        "### Número de Peças\n",
        "\n",
        "#### Vamos classificar os grupos pelo número de peças: \n",
        "1. Grupo com uma peça\n",
        "2. Grupo com duas peças"
      ]
    },
    {
      "cell_type": "code",
      "metadata": {
        "colab": {
          "base_uri": "https://localhost:8080/",
          "height": 279
        },
        "id": "4b_FoiSwsB0T",
        "outputId": "83f368a4-5bfc-4e03-fc06-07ae8bf58b9a"
      },
      "source": [
        "sns.set_style('whitegrid')\n",
        "sns.countplot(x='Output2',data=DataSet,palette='RdBu_r')\n",
        "plt.show()"
      ],
      "execution_count": 13,
      "outputs": [
        {
          "output_type": "display_data",
          "data": {
            "image/png": "[encoded data removed]",
            "text/plain": [
              "<Figure size 432x288 with 1 Axes>"
            ]
          },
          "metadata": {
            "tags": []
          }
        }
      ]
    },
    {
      "cell_type": "markdown",
      "metadata": {
        "id": "sDazsUG8sB0T"
      },
      "source": [
        "#### Gráfico da distribuição das áreas das peças"
      ]
    },
    {
      "cell_type": "code",
      "metadata": {
        "colab": {
          "base_uri": "https://localhost:8080/",
          "height": 333
        },
        "id": "2SgtpqnHsB0T",
        "outputId": "3e866ef7-18a3-4c79-bb0b-de267509b1d5"
      },
      "source": [
        "sns.distplot(DataSet['Area'].dropna(),kde=False,color='darkred',bins=30)\n",
        "plt.show()"
      ],
      "execution_count": 14,
      "outputs": [
        {
          "output_type": "stream",
          "text": [
            "/usr/local/lib/python3.7/dist-packages/seaborn/distributions.py:2557: FutureWarning: `distplot` is a deprecated function and will be removed in a future version. Please adapt your code to use either `displot` (a figure-level function with similar flexibility) or `histplot` (an axes-level function for histograms).\n",
            "  warnings.warn(msg, FutureWarning)\n"
          ],
          "name": "stderr"
        },
        {
          "output_type": "display_data",
          "data": {
            "image/png": "[encoded data removed]",
            "text/plain": [
              "<Figure size 432x288 with 1 Axes>"
            ]
          },
          "metadata": {
            "tags": []
          }
        }
      ]
    },
    {
      "cell_type": "code",
      "metadata": {
        "colab": {
          "base_uri": "https://localhost:8080/",
          "height": 279
        },
        "id": "_LDJPqzFsB0U",
        "outputId": "3aa0bd7a-7e88-41fa-b2b2-a6f97b4f514b"
      },
      "source": [
        "sns.set_style('whitegrid')\n",
        "sns.countplot(x='Area',hue='Output2',data=DataSet,palette='rainbow')\n",
        "plt.show()"
      ],
      "execution_count": 15,
      "outputs": [
        {
          "output_type": "display_data",
          "data": {
            "image/png": "[encoded data removed]",
            "text/plain": [
              "<Figure size 432x288 with 1 Axes>"
            ]
          },
          "metadata": {
            "tags": []
          }
        }
      ]
    },
    {
      "cell_type": "code",
      "metadata": {
        "colab": {
          "base_uri": "https://localhost:8080/",
          "height": 279
        },
        "id": "SzbfOsCZsB0U",
        "outputId": "37266727-2f85-4cbf-dd8b-502258b11f7a"
      },
      "source": [
        "sns.set_style('whitegrid')\n",
        "sns.countplot(x='NumAmostra',hue='Output2',data=DataSet,palette='rainbow')\n",
        "plt.show()"
      ],
      "execution_count": 16,
      "outputs": [
        {
          "output_type": "display_data",
          "data": {
            "image/png": "[encoded data removed]",
            "text/plain": [
              "<Figure size 432x288 with 1 Axes>"
            ]
          },
          "metadata": {
            "tags": []
          }
        }
      ]
    },
    {
      "cell_type": "code",
      "metadata": {
        "colab": {
          "base_uri": "https://localhost:8080/",
          "height": 279
        },
        "id": "nraXiTZtsB0U",
        "outputId": "1ae3494d-c417-4ca3-ee6f-a63985637530"
      },
      "source": [
        "sns.set_style('whitegrid')\n",
        "sns.countplot(x='Delta',hue='Output1',data=DataSet,palette='rainbow')\n",
        "plt.show()"
      ],
      "execution_count": 17,
      "outputs": [
        {
          "output_type": "display_data",
          "data": {
            "image/png": "[encoded data removed]",
            "text/plain": [
              "<Figure size 432x288 with 1 Axes>"
            ]
          },
          "metadata": {
            "tags": []
          }
        }
      ]
    },
    {
      "cell_type": "markdown",
      "metadata": {
        "id": "Pp0q3E6OsB0V"
      },
      "source": [
        "## As variáveis preditoras e a variável de resposta\n",
        "\n",
        "Para treinar o modelo de regressão, primeiro precisaremos dividir nossos dados em uma matriz **X** que contenha os dados das variáveis preditoras e uma matriz **y** com os dados da variável de destino.\n",
        "\n",
        "### Matrizes X e y"
      ]
    },
    {
      "cell_type": "code",
      "metadata": {
        "id": "sdqpQY8NsB0V"
      },
      "source": [
        "#X = DataSet[[ 'NumAmostra', 'Area', 'Delta']]\n",
        "#y = DataSet[['Output1','Output2']]"
      ],
      "execution_count": 18,
      "outputs": []
    },
    {
      "cell_type": "markdown",
      "metadata": {
        "id": "qumFk0bJsB0V"
      },
      "source": [
        "### Relação entre as variáveis preditoras\n",
        "\n",
        "####  Algumas questões importantes\n",
        "1. Pelo menos um dos preditores ***x1, x2, ... ,x5***  é útil na previsão da resposta?\n",
        "2. Todos os preditores ajudam a explicar **y**, ou apenas um subconjunto dos preditores?\n",
        "3. Quão bem o modelo se ajusta aos dados?\n",
        "4. Dado um conjunto de valores de previsão, quais valores de resposta devemos prever e quais as métricas indicam um bom modelo de previsão?\n",
        "\n",
        "**Gráficos simples de dispersão**\n",
        "\n",
        "Pelos gráficos abaixo percebemos ... nossa variável de resposta"
      ]
    },
    {
      "cell_type": "code",
      "metadata": {
        "colab": {
          "base_uri": "https://localhost:8080/",
          "height": 917
        },
        "id": "yKZxGKO5sB0W",
        "outputId": "0e8f8742-d0ef-420c-b1f8-5cac05921fc1"
      },
      "source": [
        "sns.pairplot(DataSet)\n",
        "plt.show()"
      ],
      "execution_count": 19,
      "outputs": [
        {
          "output_type": "display_data",
          "data": {
            "image/png": "[encoded data removed]",
            "text/plain": [
              "<Figure size 1260x1260 with 56 Axes>"
            ]
          },
          "metadata": {
            "tags": []
          }
        }
      ]
    },
    {
      "cell_type": "markdown",
      "metadata": {
        "id": "se3p1QEcsB0W"
      },
      "source": [
        "**Mapa de Calor**\n",
        "\n",
        "O gráfico abaixo mostra através de uma escala de cores a correlação entre as variáveis do *Dataset*. Se observarmos as cores deste gráfico, a variável preditora **'Area'** possui maior correlação com a variável de resposta **'Output'** e a variável **'NumAmostra'** a menor."
      ]
    },
    {
      "cell_type": "code",
      "metadata": {
        "colab": {
          "base_uri": "https://localhost:8080/",
          "height": 325
        },
        "id": "9s6hTz_YsB0W",
        "outputId": "3aafcd2f-a96d-4a1a-c51d-653336e7494f"
      },
      "source": [
        "sns.heatmap(DataSet.corr())\n",
        "plt.show()"
      ],
      "execution_count": 20,
      "outputs": [
        {
          "output_type": "display_data",
          "data": {
            "image/png": "[encoded data removed]",
            "text/plain": [
              "<Figure size 432x288 with 2 Axes>"
            ]
          },
          "metadata": {
            "tags": []
          }
        }
      ]
    },
    {
      "cell_type": "markdown",
      "metadata": {
        "id": "Gh0E7nNisB0W"
      },
      "source": [
        "## Normalização dos Dados"
      ]
    },
    {
      "cell_type": "code",
      "metadata": {
        "id": "-FC3p7WRsB0X"
      },
      "source": [
        "from sklearn.preprocessing import StandardScaler\n",
        "scaler=StandardScaler()\n",
        "DataScaled=scaler.fit_transform(DataSet)"
      ],
      "execution_count": 21,
      "outputs": []
    },
    {
      "cell_type": "code",
      "metadata": {
        "id": "z031awgupJdA"
      },
      "source": [
        "# 3 features\n",
        "# DataSetScaled=pd.DataFrame(np.array(DataScaled),columns = ['Amostra', 'Area', 'Delta', 'Output1','Output2'])"
      ],
      "execution_count": 22,
      "outputs": []
    },
    {
      "cell_type": "code",
      "metadata": {
        "id": "XvdbBesDpLhU"
      },
      "source": [
        "# 4 features\n",
        "# DataSetScaled=pd.DataFrame(np.array(DataScaled),columns = ['Tamanho', 'Amostra', 'Area', 'Delta', 'Output1','Output2'])"
      ],
      "execution_count": 23,
      "outputs": []
    },
    {
      "cell_type": "code",
      "metadata": {
        "id": "sUjUFfSmu1g6"
      },
      "source": [
        "# 5 features\n",
        "DataSetScaled=pd.DataFrame(np.array(DataScaled),columns = ['Referencia', 'Tamanho', 'Amostra', 'Area', 'Delta', 'Output1','Output2'])"
      ],
      "execution_count": 24,
      "outputs": []
    },
    {
      "cell_type": "code",
      "metadata": {
        "id": "iifiJG-6sB0X",
        "colab": {
          "base_uri": "https://localhost:8080/",
          "height": 204
        },
        "outputId": "7e788eb1-fe6b-445c-ab21-c31ba2bd191f"
      },
      "source": [
        "DataSetScaled.head()"
      ],
      "execution_count": 25,
      "outputs": [
        {
          "output_type": "execute_result",
          "data": {
            "text/html": [
              "<div>\n",
              "<style scoped>\n",
              "    .dataframe tbody tr th:only-of-type {\n",
              "        vertical-align: middle;\n",
              "    }\n",
              "\n",
              "    .dataframe tbody tr th {\n",
              "        vertical-align: top;\n",
              "    }\n",
              "\n",
              "    .dataframe thead th {\n",
              "        text-align: right;\n",
              "    }\n",
              "</style>\n",
              "<table border=\"1\" class=\"dataframe\">\n",
              "  <thead>\n",
              "    <tr style=\"text-align: right;\">\n",
              "      <th></th>\n",
              "      <th>Referencia</th>\n",
              "      <th>Tamanho</th>\n",
              "      <th>Amostra</th>\n",
              "      <th>Area</th>\n",
              "      <th>Delta</th>\n",
              "      <th>Output1</th>\n",
              "      <th>Output2</th>\n",
              "    </tr>\n",
              "  </thead>\n",
              "  <tbody>\n",
              "    <tr>\n",
              "      <th>0</th>\n",
              "      <td>-0.107833</td>\n",
              "      <td>-3.627690</td>\n",
              "      <td>0.534314</td>\n",
              "      <td>0.565990</td>\n",
              "      <td>0.373528</td>\n",
              "      <td>1.289676</td>\n",
              "      <td>-1.289676</td>\n",
              "    </tr>\n",
              "    <tr>\n",
              "      <th>1</th>\n",
              "      <td>-0.107833</td>\n",
              "      <td>-3.518784</td>\n",
              "      <td>1.693069</td>\n",
              "      <td>0.762257</td>\n",
              "      <td>0.035312</td>\n",
              "      <td>1.289676</td>\n",
              "      <td>-1.289676</td>\n",
              "    </tr>\n",
              "    <tr>\n",
              "      <th>2</th>\n",
              "      <td>-0.107833</td>\n",
              "      <td>-3.409879</td>\n",
              "      <td>0.476377</td>\n",
              "      <td>0.173457</td>\n",
              "      <td>0.007127</td>\n",
              "      <td>1.289676</td>\n",
              "      <td>-1.289676</td>\n",
              "    </tr>\n",
              "    <tr>\n",
              "      <th>3</th>\n",
              "      <td>-0.107833</td>\n",
              "      <td>-3.300973</td>\n",
              "      <td>-1.377630</td>\n",
              "      <td>-0.448055</td>\n",
              "      <td>0.711745</td>\n",
              "      <td>1.289676</td>\n",
              "      <td>-1.289676</td>\n",
              "    </tr>\n",
              "    <tr>\n",
              "      <th>4</th>\n",
              "      <td>-0.107833</td>\n",
              "      <td>-3.192067</td>\n",
              "      <td>0.650190</td>\n",
              "      <td>0.271590</td>\n",
              "      <td>-0.133796</td>\n",
              "      <td>1.289676</td>\n",
              "      <td>-1.289676</td>\n",
              "    </tr>\n",
              "  </tbody>\n",
              "</table>\n",
              "</div>"
            ],
            "text/plain": [
              "   Referencia   Tamanho   Amostra      Area     Delta   Output1   Output2\n",
              "0   -0.107833 -3.627690  0.534314  0.565990  0.373528  1.289676 -1.289676\n",
              "1   -0.107833 -3.518784  1.693069  0.762257  0.035312  1.289676 -1.289676\n",
              "2   -0.107833 -3.409879  0.476377  0.173457  0.007127  1.289676 -1.289676\n",
              "3   -0.107833 -3.300973 -1.377630 -0.448055  0.711745  1.289676 -1.289676\n",
              "4   -0.107833 -3.192067  0.650190  0.271590 -0.133796  1.289676 -1.289676"
            ]
          },
          "metadata": {
            "tags": []
          },
          "execution_count": 25
        }
      ]
    },
    {
      "cell_type": "markdown",
      "metadata": {
        "id": "GIwGhX_0sB0X"
      },
      "source": [
        "### Conjunto de dados para o treinamento"
      ]
    },
    {
      "cell_type": "code",
      "metadata": {
        "id": "BaDfw8JtsB0X"
      },
      "source": [
        "X = DataSetScaled.drop(['Output1', 'Output2'],axis=1)\n",
        "y = DataSet[['Output1','Output2']]"
      ],
      "execution_count": 26,
      "outputs": []
    },
    {
      "cell_type": "markdown",
      "metadata": {
        "id": "zFLKwDU0sB0Y"
      },
      "source": [
        "## Separando os dados de treinamento e de validação\n",
        "\n",
        "Agora vamos dividir os dados em um conjunto de treinamento e um conjunto de testes. Vamos treinar o modelo no conjunto de treinamento, em seguida, usar o conjunto de teste para validar o modelo.\n",
        "\n",
        "Em nosso exemplo iremos separar de forma randômica 33% dos dados para validação. Estes dados não serão utilizados para determinação dos coeficientes preditores do modelo. \n"
      ]
    },
    {
      "cell_type": "code",
      "metadata": {
        "colab": {
          "base_uri": "https://localhost:8080/"
        },
        "id": "EC_vpJJTsB0Y",
        "outputId": "113d6e01-15be-4e67-9dc8-52ad8110f7c3"
      },
      "source": [
        "from sklearn.model_selection import train_test_split\n",
        "X_train, X_test, y_train, y_test = train_test_split(X, y, test_size=0.30, random_state=101)\n",
        "\n",
        "print(y_test)\n",
        "print(X_test)"
      ],
      "execution_count": 27,
      "outputs": [
        {
          "output_type": "stream",
          "text": [
            "     Output1  Output2\n",
            "89         1        0\n",
            "212        0        1\n",
            "218        0        1\n",
            "96         1        0\n",
            "88         1        0\n",
            "..       ...      ...\n",
            "22         1        0\n",
            "42         1        0\n",
            "160        0        1\n",
            "93         1        0\n",
            "50         1        0\n",
            "\n",
            "[79 rows x 2 columns]\n",
            "     Referencia   Tamanho   Amostra      Area     Delta\n",
            "89    -0.107833 -0.469422  0.476377 -0.186366 -0.331089\n",
            "212   -0.107833  0.619637 -0.856191 -1.036855 -0.725675\n",
            "218   -0.107833  0.619637  1.229567 -0.088232 -0.669306\n",
            "96    -0.107833 -0.251610 -1.667319 -0.938722  0.007127\n",
            "88    -0.107833 -0.469422 -0.103000 -0.415344 -0.472013\n",
            "..          ...       ...       ...       ...       ...\n",
            "22    -0.107833 -1.667386  0.534314 -0.251788 -0.528382\n",
            "42    -0.107833 -0.142704  0.534314 -0.120943 -0.500197\n",
            "160   -0.107833  0.619637  2.214508  1.285635  0.035312\n",
            "93    -0.107833 -0.360516  0.128750  0.009901  0.035312\n",
            "50    -0.107833  0.401825  0.360501 -0.055521 -0.387459\n",
            "\n",
            "[79 rows x 5 columns]\n"
          ],
          "name": "stdout"
        }
      ]
    },
    {
      "cell_type": "markdown",
      "metadata": {
        "id": "qbYoUOMisB0Y"
      },
      "source": [
        "## Criando o Modelo de MPL"
      ]
    },
    {
      "cell_type": "markdown",
      "metadata": {
        "id": "pkaD0jOVj921"
      },
      "source": [
        "## Análise e alterações Andrieli"
      ]
    },
    {
      "cell_type": "markdown",
      "metadata": {
        "id": "LK-b11korEwT"
      },
      "source": [
        "### Teste 1"
      ]
    },
    {
      "cell_type": "markdown",
      "metadata": {
        "id": "Rs4x6jGnvwtn"
      },
      "source": [
        "Vou adicionar as variaveis do algoritmo de backpropagation aqui, pra facilitar a documentação das mudanças efetudas."
      ]
    },
    {
      "cell_type": "markdown",
      "metadata": {
        "id": "Pq4qNT9jwdVY"
      },
      "source": [
        "Vou iniciar com alguns parâmentros conservadores, pra ver como o modelo se comporta."
      ]
    },
    {
      "cell_type": "code",
      "metadata": {
        "id": "Fi5XuMQbsB0Z"
      },
      "source": [
        "#Tamanho do DataSet de Treinamento\n",
        "n_records, n_features = X_train.shape\n",
        "\n",
        "#Arquitetura da MPL\n",
        "N_input = 3\n",
        "N_hidden = 5\n",
        "N_output = 2\n",
        "learnrate = 0.1\n",
        "\n",
        "# Parametros Backpropagation\n",
        "epochs = 20000\n",
        "last_loss=None\n",
        "EvolucaoError=[]\n",
        "IndiceError=[]\n",
        "\n",
        "# A Acurácia da Predição é de: 0.848"
      ],
      "execution_count": 28,
      "outputs": []
    },
    {
      "cell_type": "markdown",
      "metadata": {
        "id": "xIZcyfYgwT5n"
      },
      "source": [
        "Pela evolução do erro, observei que o aprendizado não havia estabilizado. Então, ainda há possibilidade de aprendizado. \n",
        "\n",
        "Vou aumentar as épocas."
      ]
    },
    {
      "cell_type": "markdown",
      "metadata": {
        "id": "a3Sz1iyfrMT9"
      },
      "source": [
        "### Teste 2"
      ]
    },
    {
      "cell_type": "code",
      "metadata": {
        "id": "wzaOIPcSvTpX"
      },
      "source": [
        "#Tamanho do DataSet de Treinamento\n",
        "n_records, n_features = X_train.shape\n",
        "\n",
        "#Arquitetura da MPL\n",
        "N_input = 3\n",
        "N_hidden = 5\n",
        "N_output = 2\n",
        "learnrate = 0.1\n",
        "\n",
        "# Parametros Backpropagation\n",
        "epochs = 200000\n",
        "last_loss=None\n",
        "EvolucaoError=[]\n",
        "IndiceError=[]\n",
        "\n",
        "# A Acurácia da Predição é de: 0.861"
      ],
      "execution_count": 29,
      "outputs": []
    },
    {
      "cell_type": "markdown",
      "metadata": {
        "id": "ZB89_FP31kGi"
      },
      "source": [
        "Hum. O Aprendizado estabilizou aproximadamente em 100000 épocas.\n",
        "\n",
        "Vou tentar esta mesma configuração com 100000 épocas e ver se a acurácia se mantém."
      ]
    },
    {
      "cell_type": "markdown",
      "metadata": {
        "id": "6HG13Nc-rNt1"
      },
      "source": [
        "### Teste 3"
      ]
    },
    {
      "cell_type": "code",
      "metadata": {
        "id": "Q3v17Ffn160F"
      },
      "source": [
        "#Tamanho do DataSet de Treinamento\n",
        "n_records, n_features = X_train.shape\n",
        "\n",
        "#Arquitetura da MPL\n",
        "N_input = 3\n",
        "N_hidden = 5\n",
        "N_output = 2\n",
        "learnrate = 0.1\n",
        "\n",
        "# Parametros Backpropagation\n",
        "epochs = 100000\n",
        "last_loss=None\n",
        "EvolucaoError=[]\n",
        "IndiceError=[]\n",
        "\n",
        "# A Acurácia da Predição é de: 0.861"
      ],
      "execution_count": 30,
      "outputs": []
    },
    {
      "cell_type": "markdown",
      "metadata": {
        "id": "zuetUTkZ4Z3c"
      },
      "source": [
        "De fato. Manteve a acurácia\n",
        "\n",
        "Vou tentar reduzir o learning rate. \n",
        "\n",
        "Primeiro com poucas épocas, só pra avaliar a evolução."
      ]
    },
    {
      "cell_type": "markdown",
      "metadata": {
        "id": "qQMwulQRrO_5"
      },
      "source": [
        "### Teste 4"
      ]
    },
    {
      "cell_type": "code",
      "metadata": {
        "id": "zjBCPqG94luC"
      },
      "source": [
        "#Tamanho do DataSet de Treinamento\n",
        "n_records, n_features = X_train.shape\n",
        "\n",
        "#Arquitetura da MPL\n",
        "N_input = 3\n",
        "N_hidden = 5\n",
        "N_output = 2\n",
        "learnrate = 0.01\n",
        "\n",
        "# Parametros Backpropagation\n",
        "epochs = 20000\n",
        "last_loss=None\n",
        "EvolucaoError=[]\n",
        "IndiceError=[]\n",
        "\n",
        "# A Acurácia da Predição é de: 0.557"
      ],
      "execution_count": 31,
      "outputs": []
    },
    {
      "cell_type": "markdown",
      "metadata": {
        "id": "U9C9YFEl5xTa"
      },
      "source": [
        "É. Não deu muito boa. \n",
        "\n",
        "Vou tentar com mais épocas."
      ]
    },
    {
      "cell_type": "markdown",
      "metadata": {
        "id": "YUaAqpHDrQTN"
      },
      "source": [
        "### Teste 5"
      ]
    },
    {
      "cell_type": "code",
      "metadata": {
        "id": "MpQ9hDs15-qc"
      },
      "source": [
        "#Tamanho do DataSet de Treinamento\n",
        "n_records, n_features = X_train.shape\n",
        "\n",
        "#Arquitetura da MPL\n",
        "N_input = 3\n",
        "N_hidden = 5\n",
        "N_output = 2\n",
        "learnrate = 0.01\n",
        "\n",
        "# Parametros Backpropagation\n",
        "epochs = 100000\n",
        "last_loss=None\n",
        "EvolucaoError=[]\n",
        "IndiceError=[]\n",
        "\n",
        "# A Acurácia da Predição é de: 0.785"
      ],
      "execution_count": 32,
      "outputs": []
    },
    {
      "cell_type": "markdown",
      "metadata": {
        "id": "G3PtuIku8maO"
      },
      "source": [
        "Ta melhorando. Mas precisa de bem mais épocas pra estabilizar.\n",
        "\n",
        "Vou tentar outra abordagem. Se ela não mostrar tanta diferença, eu volto para esta e aumento a quantidade de épocas.\n",
        "\n",
        "Vou alterar o número de neurônios da camada oculta."
      ]
    },
    {
      "cell_type": "markdown",
      "metadata": {
        "id": "8TQroWvarR4D"
      },
      "source": [
        "### Teste 6"
      ]
    },
    {
      "cell_type": "code",
      "metadata": {
        "id": "fbjbqVD786nP"
      },
      "source": [
        "#Tamanho do DataSet de Treinamento\n",
        "n_records, n_features = X_train.shape\n",
        "\n",
        "#Arquitetura da MPL\n",
        "N_input = 3\n",
        "N_hidden = 10\n",
        "N_output = 2\n",
        "learnrate = 0.1\n",
        "\n",
        "# Parametros Backpropagation\n",
        "epochs = 20000\n",
        "last_loss=None\n",
        "EvolucaoError=[]\n",
        "IndiceError=[]\n",
        "\n",
        "# A Acurácia da Predição é de: 0.861"
      ],
      "execution_count": 33,
      "outputs": []
    },
    {
      "cell_type": "markdown",
      "metadata": {
        "id": "CD2QRl1694K3"
      },
      "source": [
        "Olha só. Esse modelo se saiu muito bem, com poucas épocas e com possibilidade de aprendizado, pois ainda não havia estabilizado.\n",
        "\n",
        "Vou aumentar a quantidade de épocas para ver se ele melhora."
      ]
    },
    {
      "cell_type": "markdown",
      "metadata": {
        "id": "hq2KGw_VrTVT"
      },
      "source": [
        "### Teste 7"
      ]
    },
    {
      "cell_type": "code",
      "metadata": {
        "id": "M7F9qSsz-JFT"
      },
      "source": [
        "#Tamanho do DataSet de Treinamento\n",
        "n_records, n_features = X_train.shape\n",
        "\n",
        "#Arquitetura da MPL\n",
        "N_input = 3\n",
        "N_hidden = 10\n",
        "N_output = 2\n",
        "learnrate = 0.1\n",
        "\n",
        "# Parametros Backpropagation\n",
        "epochs = 100000\n",
        "last_loss=None\n",
        "EvolucaoError=[]\n",
        "IndiceError=[]\n",
        "\n",
        "# A Acurácia da Predição é de: 0.861"
      ],
      "execution_count": 34,
      "outputs": []
    },
    {
      "cell_type": "markdown",
      "metadata": {
        "id": "fh4LlglaD9uL"
      },
      "source": [
        "Mas olha que fui tapeado.\n",
        "\n",
        "Vou aumentar o learning rate."
      ]
    },
    {
      "cell_type": "markdown",
      "metadata": {
        "id": "usvvYMa0rUte"
      },
      "source": [
        "### Teste 8"
      ]
    },
    {
      "cell_type": "code",
      "metadata": {
        "id": "DszBquojEGbQ"
      },
      "source": [
        "#Tamanho do DataSet de Treinamento\n",
        "n_records, n_features = X_train.shape\n",
        "\n",
        "#Arquitetura da MPL\n",
        "N_input = 3\n",
        "N_hidden = 10\n",
        "N_output = 2\n",
        "learnrate = 0.01\n",
        "\n",
        "# Parametros Backpropagation\n",
        "epochs = 100000\n",
        "last_loss=None\n",
        "EvolucaoError=[]\n",
        "IndiceError=[]\n",
        "\n",
        "# A Acurácia da Predição é de: 0.835"
      ],
      "execution_count": 35,
      "outputs": []
    },
    {
      "cell_type": "markdown",
      "metadata": {
        "id": "hc27tJouGqxl"
      },
      "source": [
        "Bom. Ainda temos margem pra aprendizado. \n",
        "\n",
        "Vamos aumentar as épocas e ver como irá ficar."
      ]
    },
    {
      "cell_type": "markdown",
      "metadata": {
        "id": "1N40YWbHrWOx"
      },
      "source": [
        "### Teste 9"
      ]
    },
    {
      "cell_type": "code",
      "metadata": {
        "id": "NlsnnwMGG2xE"
      },
      "source": [
        "#Tamanho do DataSet de Treinamento\n",
        "n_records, n_features = X_train.shape\n",
        "\n",
        "#Arquitetura da MPL\n",
        "N_input = 3\n",
        "N_hidden = 10\n",
        "N_output = 2\n",
        "learnrate = 0.01\n",
        "\n",
        "# Parametros Backpropagation\n",
        "epochs = 200000\n",
        "last_loss=None\n",
        "EvolucaoError=[]\n",
        "IndiceError=[]\n",
        "\n",
        "# A Acurácia da Predição é de: 0.861"
      ],
      "execution_count": 36,
      "outputs": []
    },
    {
      "cell_type": "markdown",
      "metadata": {
        "id": "f1c37wWiMPqo"
      },
      "source": [
        "0.861 novamente\n",
        "\n",
        "Vamos rodar com mais épocas.\n",
        "\n",
        "Vou diminuir também o learning rate."
      ]
    },
    {
      "cell_type": "markdown",
      "metadata": {
        "id": "JNus5s9drYrn"
      },
      "source": [
        "### Teste 10"
      ]
    },
    {
      "cell_type": "code",
      "metadata": {
        "id": "sdlYHF8JMdvn"
      },
      "source": [
        "#Tamanho do DataSet de Treinamento\n",
        "n_records, n_features = X_train.shape\n",
        "\n",
        "#Arquitetura da MPL\n",
        "N_input = 3\n",
        "N_hidden = 10\n",
        "N_output = 2\n",
        "learnrate = 0.005\n",
        "\n",
        "# Parametros Backpropagation\n",
        "epochs = 2000000\n",
        "last_loss=None\n",
        "EvolucaoError=[]\n",
        "IndiceError=[]\n",
        "\n",
        "# A Acurácia da Predição é de: 0.861"
      ],
      "execution_count": 37,
      "outputs": []
    },
    {
      "cell_type": "markdown",
      "metadata": {
        "id": "H5S31s-AzvFP"
      },
      "source": [
        "Estabilizou em 1.000.000 de épocas e continua em 0.861\n",
        "\n",
        "Então o modelo com 10 camadas ocultas e 20000 épocas ainda é o mais interessante para esta fase de validação, pois produz o mesmo resultado que os demais, mas com bem menos tempo de aprendizado.\n",
        "\n",
        "Vou verificar algumas outras alterações e aplicar a este modelo pra ver como ele se comporta."
      ]
    },
    {
      "cell_type": "markdown",
      "metadata": {
        "id": "YXozz74Ira9U"
      },
      "source": [
        "### Teste 11"
      ]
    },
    {
      "cell_type": "markdown",
      "metadata": {
        "id": "3NkEkmjsnUs7"
      },
      "source": [
        "Verifiquei que o campo tamanho pode ser interessante para a análise. \n",
        "\n",
        "Vou retirar ele do DROP e aplicar o modelo pra ver como se comporta.\n",
        "\n",
        "Tenho que aumentar a quantidade de neurônios da camada de entrada. Então vamos lá."
      ]
    },
    {
      "cell_type": "code",
      "metadata": {
        "id": "IiWf72UElyNe"
      },
      "source": [
        "#Tamanho do DataSet de Treinamento\n",
        "n_records, n_features = X_train.shape\n",
        "\n",
        "#Arquitetura da MPL\n",
        "N_input = 4\n",
        "N_hidden = 10\n",
        "N_output = 2\n",
        "learnrate = 0.1\n",
        "\n",
        "# Parametros Backpropagation\n",
        "epochs = 20000\n",
        "last_loss=None\n",
        "EvolucaoError=[]\n",
        "IndiceError=[]\n",
        "\n",
        "# A Acurácia da Predição é de: 0.861"
      ],
      "execution_count": 38,
      "outputs": []
    },
    {
      "cell_type": "markdown",
      "metadata": {
        "id": "xKR5k40_rd0R"
      },
      "source": [
        "### Teste 12"
      ]
    },
    {
      "cell_type": "markdown",
      "metadata": {
        "id": "ooeOZqCtpmsy"
      },
      "source": [
        "Pelo gráfico de evolução do erro, ainda tem possibilidade de aprendizado. Vou aumentar as épocas."
      ]
    },
    {
      "cell_type": "code",
      "metadata": {
        "id": "E3YLFcX_pxFI"
      },
      "source": [
        "#Tamanho do DataSet de Treinamento\n",
        "n_records, n_features = X_train.shape\n",
        "\n",
        "#Arquitetura da MPL\n",
        "N_input = 4\n",
        "N_hidden = 10\n",
        "N_output = 2\n",
        "learnrate = 0.1\n",
        "\n",
        "# Parametros Backpropagation\n",
        "epochs = 40000\n",
        "last_loss=None\n",
        "EvolucaoError=[]\n",
        "IndiceError=[]\n",
        "\n",
        "# A Acurácia da Predição é de: 0.873"
      ],
      "execution_count": 39,
      "outputs": []
    },
    {
      "cell_type": "markdown",
      "metadata": {
        "id": "FhnGAea3q8rW"
      },
      "source": [
        "FEITO!!!!"
      ]
    },
    {
      "cell_type": "markdown",
      "metadata": {
        "id": "BXSHvro4riQZ"
      },
      "source": [
        "**Resumo da solução:**\n",
        "\n",
        "* Adicionada a feature de \"Tamanho\" às 3 features de entrada já utilizadas;\n",
        "* 4 neurônios na camada de entrada;\n",
        "* 10 neurônios na camada oculta;\n",
        "* 2 neurônios na camada de saída;\n",
        "* 40000 épocas.\n",
        "\n",
        "A Acurácia da Predição é de: **0.873**"
      ]
    },
    {
      "cell_type": "markdown",
      "metadata": {
        "id": "2Mk3DlFpsmY8"
      },
      "source": [
        "Será que podemos melhorar ainda mais?"
      ]
    },
    {
      "cell_type": "markdown",
      "metadata": {
        "id": "sznXvY-Dsp1p"
      },
      "source": [
        "### Teste 13"
      ]
    },
    {
      "cell_type": "markdown",
      "metadata": {
        "id": "T_JE7Z9Rs5yO"
      },
      "source": [
        "Vou tentar aumentar o número de neurônios na camada oculta."
      ]
    },
    {
      "cell_type": "code",
      "metadata": {
        "id": "TOp6VUgesx0G"
      },
      "source": [
        "#Tamanho do DataSet de Treinamento\n",
        "n_records, n_features = X_train.shape\n",
        "\n",
        "#Arquitetura da MPL\n",
        "N_input = 4\n",
        "N_hidden = 12\n",
        "N_output = 2\n",
        "learnrate = 0.1\n",
        "\n",
        "# Parametros Backpropagation\n",
        "epochs = 40000\n",
        "last_loss=None\n",
        "EvolucaoError=[]\n",
        "IndiceError=[]\n",
        "\n",
        "# A Acurácia da Predição é de: 0.873"
      ],
      "execution_count": 40,
      "outputs": []
    },
    {
      "cell_type": "markdown",
      "metadata": {
        "id": "3WKyrreluK_O"
      },
      "source": [
        "Mesmo resultado.\n",
        "\n",
        "Vou voltar às configurações anteriores e alterar as features."
      ]
    },
    {
      "cell_type": "markdown",
      "metadata": {
        "id": "Yhr1sl9VvVy3"
      },
      "source": [
        "### Teste 14"
      ]
    },
    {
      "cell_type": "markdown",
      "metadata": {
        "id": "FULutR56vYKH"
      },
      "source": [
        "Vou adicionar a referencia pra ver se melhora"
      ]
    },
    {
      "cell_type": "code",
      "metadata": {
        "id": "dOOYrRyxuKQW"
      },
      "source": [
        "#Tamanho do DataSet de Treinamento\n",
        "n_records, n_features = X_train.shape\n",
        "\n",
        "#Arquitetura da MPL\n",
        "N_input = 5\n",
        "N_hidden = 10\n",
        "N_output = 2\n",
        "learnrate = 0.1\n",
        "\n",
        "# Parametros Backpropagation\n",
        "epochs = 40000\n",
        "last_loss=None\n",
        "EvolucaoError=[]\n",
        "IndiceError=[]\n",
        "\n",
        "# A Acurácia da Predição é de: 0.975"
      ],
      "execution_count": 41,
      "outputs": []
    },
    {
      "cell_type": "markdown",
      "metadata": {
        "id": "5Bgs-nlbxk-v"
      },
      "source": [
        "WOW... **0.975**. \n",
        "\n",
        "Acredito que esse seja o modelo. \n",
        "\n",
        "E o grafico de evolução do erro estabilizou próximo a 5000 épocas.\n",
        "\n",
        "Vou reduzir as épocas e deixar uma margem alem dos 5000."
      ]
    },
    {
      "cell_type": "markdown",
      "metadata": {
        "id": "t-qUBUHD01rN"
      },
      "source": [
        "### Teste 15"
      ]
    },
    {
      "cell_type": "code",
      "metadata": {
        "id": "OcDTqq9y0OoZ"
      },
      "source": [
        "#Tamanho do DataSet de Treinamento\n",
        "n_records, n_features = X_train.shape\n",
        "\n",
        "#Arquitetura da MPL\n",
        "N_input = 5\n",
        "N_hidden = 10\n",
        "N_output = 2\n",
        "learnrate = 0.1\n",
        "\n",
        "# Parametros Backpropagation\n",
        "epochs = 6000\n",
        "last_loss=None\n",
        "EvolucaoError=[]\n",
        "IndiceError=[]\n",
        "\n",
        "# A Acurácia da Predição é de: 0.975"
      ],
      "execution_count": 49,
      "outputs": []
    },
    {
      "cell_type": "markdown",
      "metadata": {
        "id": "UmpLdGhR07GK"
      },
      "source": [
        "Ótimo. É isso mesmo."
      ]
    },
    {
      "cell_type": "markdown",
      "metadata": {
        "id": "xZDtyx-ax1_A"
      },
      "source": [
        "**Resumo da solução:**\n",
        "\n",
        "* Adicionadas as features de \"Tamanho\" e \"Referencia\" às 3 features de entrada já utilizadas;\n",
        "* 5 neurônios na camada de entrada;\n",
        "* 10 neurônios na camada oculta;\n",
        "* 2 neurônios na camada de saída;\n",
        "* 6000 épocas.\n",
        "\n",
        "A Acurácia da Predição é de: **0.975**"
      ]
    },
    {
      "cell_type": "markdown",
      "metadata": {
        "id": "eQ9ywEdOsB0Z"
      },
      "source": [
        "## Inicialização dos pesos da MPL (Aleatório)"
      ]
    },
    {
      "cell_type": "code",
      "metadata": {
        "colab": {
          "base_uri": "https://localhost:8080/"
        },
        "id": "FPYIfac0sB0Z",
        "outputId": "463d9c7a-aab2-4b73-dfb9-a629da72bda5"
      },
      "source": [
        "#Pesos da Camada Oculta (Inicialização Aleatória)\n",
        "weights_input_hidden = np.random.normal(0, scale=0.1, size=(N_input, N_hidden))\n",
        "print('Pesos da Camada Oculta:')\n",
        "print(weights_input_hidden)\n",
        "\n",
        "#Pesos da Camada de Saída (Inicialização Aleatória)\n",
        "weights_hidden_output = np.random.normal(0, scale=0.1, size=(N_hidden, N_output))\n",
        "print('Pesos da Camada de Saída:')\n",
        "print(weights_hidden_output)"
      ],
      "execution_count": 50,
      "outputs": [
        {
          "output_type": "stream",
          "text": [
            "Pesos da Camada Oculta:\n",
            "[[ 0.08381885  0.10269533 -0.05605318 -0.00752504 -0.18036063 -0.09480408\n",
            "  -0.10211917 -0.01062909 -0.24960491 -0.14939143]\n",
            " [ 0.38280992  0.0668779   0.04756622  0.1463041  -0.04376669 -0.00747649\n",
            "   0.08536256 -0.03948763 -0.03984923  0.04167812]\n",
            " [ 0.03182868 -0.17905562 -0.14750363 -0.08179997 -0.04610069  0.08388513\n",
            "   0.06657766 -0.0892055   0.13067269  0.0532942 ]\n",
            " [-0.05688592 -0.12034823  0.01064261  0.05911307 -0.03757305 -0.14696149\n",
            "  -0.01210607  0.04580997 -0.01214137  0.00611861]\n",
            " [-0.00719557  0.03120326 -0.00427898 -0.06047074  0.11312138  0.09973732\n",
            "  -0.00936107  0.09658499 -0.00471411  0.13164715]]\n",
            "Pesos da Camada de Saída:\n",
            "[[ 0.14630642 -0.01597602]\n",
            " [-0.10890338 -0.09227063]\n",
            " [-0.07433625 -0.10168212]\n",
            " [-0.02355192  0.20620099]\n",
            " [ 0.01331587  0.01765621]\n",
            " [ 0.03292951 -0.07579133]\n",
            " [ 0.01867242 -0.14105989]\n",
            " [ 0.07777532 -0.03201969]\n",
            " [-0.05597524  0.1047014 ]\n",
            " [ 0.03463351  0.01759242]]\n"
          ],
          "name": "stdout"
        }
      ]
    },
    {
      "cell_type": "markdown",
      "metadata": {
        "id": "lIt_d5W5sB0a"
      },
      "source": [
        "## Algoritmo Backpropagation"
      ]
    },
    {
      "cell_type": "code",
      "metadata": {
        "id": "PfAcSVOms3CY"
      },
      "source": [
        "from tqdm.notebook import tqdm"
      ],
      "execution_count": 51,
      "outputs": []
    },
    {
      "cell_type": "code",
      "metadata": {
        "colab": {
          "base_uri": "https://localhost:8080/",
          "height": 406,
          "referenced_widgets": [
            "2dd16db13ebd470b8b1bbb9208460924",
            "7a4ba54184284ddfb97d3a2c3718df45",
            "59b98c9bcb2f4296a45622684678eb41",
            "df28a59bda83468ab2b279093415d856",
            "4150202fd4614650a3a6633272f83d78",
            "43563359c1314fd9b7d748b0a36ebf97",
            "bdc0eb6107674035a529c65570f69731",
            "1746f380adfa4c74b86dcf361ccb8534"
          ]
        },
        "id": "gklsCAcdsB0a",
        "outputId": "0ecc89ef-b523-4d31-86f7-c3af8574d1f4"
      },
      "source": [
        "for e in tqdm(range(epochs)):\n",
        "    delta_w_i_h = np.zeros(weights_input_hidden.shape)\n",
        "    delta_w_h_o = np.zeros(weights_hidden_output.shape)\n",
        "    for xi, yi in zip(X_train.values, y_train.values):\n",
        "        \n",
        "# Forward Pass\n",
        "        #Camada oculta\n",
        "        #Calcule a combinação linear de entradas e pesos sinápticos\n",
        "        hidden_layer_input = np.dot(xi, weights_input_hidden)\n",
        "        #Aplicado a função de ativação\n",
        "        hidden_layer_output = sigmoid(hidden_layer_input)\n",
        "    \n",
        "        #Camada de Saída\n",
        "        #Calcule a combinação linear de entradas e pesos sinápticos\n",
        "        output_layer_in = np.dot(hidden_layer_output, weights_hidden_output)\n",
        "\n",
        "        #Aplicado a função de ativação \n",
        "        output = sigmoid(output_layer_in)\n",
        "        #print('As saídas da rede são',output)\n",
        "#-------------------------------------------    \n",
        "    \n",
        "# Backward Pass\n",
        "        ## TODO: Cálculo do Erro\n",
        "        error = yi - output\n",
        "    \n",
        "        # TODO: Calcule o termo de erro de saída (Gradiente da Camada de Saída)\n",
        "        output_error_term = error * output * (1 - output)\n",
        "\n",
        "        # TODO: Calcule a contribuição da camada oculta para o erro\n",
        "        hidden_error = np.dot(weights_hidden_output,output_error_term)\n",
        "    \n",
        "        # TODO: Calcule o termo de erro da camada oculta (Gradiente da Camada Oculta)\n",
        "        hidden_error_term = hidden_error * hidden_layer_output * (1 - hidden_layer_output)\n",
        "    \n",
        "        # TODO: Calcule a variação do peso da camada de saída\n",
        "        delta_w_h_o += output_error_term*hidden_layer_output[:, None]\n",
        "\n",
        "        # TODO: Calcule a variação do peso da camada oculta\n",
        "        delta_w_i_h += hidden_error_term * xi[:, None]\n",
        "        \n",
        "    #Atualização dos pesos na época em questão\n",
        "    weights_input_hidden += learnrate * delta_w_i_h / n_records\n",
        "    weights_hidden_output += learnrate * delta_w_h_o / n_records\n",
        "    \n",
        "    \n",
        "    # Imprimir o erro quadrático médio no conjunto de treinamento\n",
        "    \n",
        "    if  e % (epochs / 20) == 0:\n",
        "        hidden_output = sigmoid(np.dot(xi, weights_input_hidden))\n",
        "        out = sigmoid(np.dot(hidden_output,\n",
        "                             weights_hidden_output))\n",
        "        loss = np.mean((out - yi) ** 2)\n",
        "\n",
        "        if last_loss and last_loss < loss:\n",
        "            print(\"Erro quadrático no treinamento: \", loss, \" Atenção: O erro está aumentando\")\n",
        "        else:\n",
        "            print(\"Erro quadrático no treinamento: \", loss)\n",
        "        last_loss = loss\n",
        "         \n",
        "        EvolucaoError.append(loss)\n",
        "        IndiceError.append(e)"
      ],
      "execution_count": 52,
      "outputs": [
        {
          "output_type": "display_data",
          "data": {
            "application/vnd.jupyter.widget-view+json": {
              "model_id": "2dd16db13ebd470b8b1bbb9208460924",
              "version_minor": 0,
              "version_major": 2
            },
            "text/plain": [
              "HBox(children=(FloatProgress(value=0.0, max=6000.0), HTML(value='')))"
            ]
          },
          "metadata": {
            "tags": []
          }
        },
        {
          "output_type": "stream",
          "text": [
            "Erro quadrático no treinamento:  0.24479762005956013\n",
            "Erro quadrático no treinamento:  0.3438342330765325  Atenção: O erro está aumentando\n",
            "Erro quadrático no treinamento:  0.23811852287198193\n",
            "Erro quadrático no treinamento:  0.08678450112303979\n",
            "Erro quadrático no treinamento:  0.02135314031854131\n",
            "Erro quadrático no treinamento:  0.006284536708943371\n",
            "Erro quadrático no treinamento:  0.002364394317669518\n",
            "Erro quadrático no treinamento:  0.0010772383755206256\n",
            "Erro quadrático no treinamento:  0.0005642133569954829\n",
            "Erro quadrático no treinamento:  0.0003269742448847625\n",
            "Erro quadrático no treinamento:  0.00020419844316766782\n",
            "Erro quadrático no treinamento:  0.00013495766091340108\n",
            "Erro quadrático no treinamento:  9.321371712509743e-05\n",
            "Erro quadrático no treinamento:  6.66816284191054e-05\n",
            "Erro quadrático no treinamento:  4.908347416884662e-05\n",
            "Erro quadrático no treinamento:  3.6994974917246195e-05\n",
            "Erro quadrático no treinamento:  2.844490625972301e-05\n",
            "Erro quadrático no treinamento:  2.2246102590933084e-05\n",
            "Erro quadrático no treinamento:  1.7655708978641853e-05\n",
            "Erro quadrático no treinamento:  1.4193402151995059e-05\n",
            "\n"
          ],
          "name": "stdout"
        }
      ]
    },
    {
      "cell_type": "code",
      "metadata": {
        "id": "4eDw3yhGsB0b"
      },
      "source": [
        "### Gráfico da Evolução do Erro"
      ],
      "execution_count": 46,
      "outputs": []
    },
    {
      "cell_type": "code",
      "metadata": {
        "colab": {
          "base_uri": "https://localhost:8080/",
          "height": 281
        },
        "id": "GzEqY4EosB0b",
        "outputId": "42e6eb6b-632a-4047-8cb3-bef60e39e8d7"
      },
      "source": [
        "plt.plot(IndiceError, EvolucaoError, 'r') # 'r' is the color red\n",
        "plt.xlabel('')\n",
        "plt.ylabel('Erro Quadrático')\n",
        "plt.title('Evolução do Erro no treinamento da MPL')\n",
        "plt.show()"
      ],
      "execution_count": 53,
      "outputs": [
        {
          "output_type": "display_data",
          "data": {
            "image/png": "[encoded data removed]",
            "text/plain": [
              "<Figure size 432x288 with 1 Axes>"
            ]
          },
          "metadata": {
            "tags": []
          }
        }
      ]
    },
    {
      "cell_type": "markdown",
      "metadata": {
        "id": "NWyuImF7sB0b"
      },
      "source": [
        "## Validação do modelo"
      ]
    },
    {
      "cell_type": "code",
      "metadata": {
        "colab": {
          "base_uri": "https://localhost:8080/"
        },
        "id": "-cMmFhhusB0b",
        "outputId": "c7e72122-bd25-481c-ab5d-4d81dfe4b379"
      },
      "source": [
        "# Calcule a precisão dos dados de teste\n",
        "n_records, n_features = X_test.shape\n",
        "predictions=0\n",
        "\n",
        "for xi, yi in zip(X_test.values, y_test.values):\n",
        "\n",
        "# Forward Pass\n",
        "        #Camada oculta\n",
        "        #Calcule a combinação linear de entradas e pesos sinápticos\n",
        "        hidden_layer_input = np.dot(xi, weights_input_hidden)\n",
        "        #Aplicado a função de ativação\n",
        "        hidden_layer_output = sigmoid(hidden_layer_input)\n",
        "    \n",
        "        #Camada de Saída\n",
        "        #Calcule a combinação linear de entradas e pesos sinápticos\n",
        "        output_layer_in = np.dot(hidden_layer_output, weights_hidden_output)\n",
        "\n",
        "        #Aplicado a função de ativação \n",
        "        output = sigmoid(output_layer_in)\n",
        "\n",
        "#-------------------------------------------    \n",
        "    \n",
        "#Cálculo do Erro da Predição\n",
        "        ## TODO: Cálculo do Erro        \n",
        "        if (output[0]>output[1]):\n",
        "            if (yi[0]>yi[1]):\n",
        "                predictions+=1\n",
        "                \n",
        "        if (output[1]>=output[0]):\n",
        "            if (yi[1]>yi[0]):\n",
        "                predictions+=1\n",
        "\n",
        "print(\"A Acurácia da Predição é de: {:.3f}\".format(predictions/n_records))"
      ],
      "execution_count": 54,
      "outputs": [
        {
          "output_type": "stream",
          "text": [
            "A Acurácia da Predição é de: 0.975\n"
          ],
          "name": "stdout"
        }
      ]
    },
    {
      "cell_type": "markdown",
      "metadata": {
        "id": "3Tno57uB15oN"
      },
      "source": [
        "# RESPOSTA"
      ]
    },
    {
      "cell_type": "markdown",
      "metadata": {
        "id": "_EAT0Flb19D6"
      },
      "source": [
        "**Resumo da solução:**\n",
        "\n",
        "* Adicionadas as features de \"Tamanho\" e \"Referencia\" às 3 features de entrada já utilizadas;\n",
        "* 5 neurônios na camada de entrada;\n",
        "* 10 neurônios na camada oculta;\n",
        "* 2 neurônios na camada de saída;\n",
        "* 6000 épocas.\n",
        "\n",
        "A Acurácia da Predição é de: **0.975**"
      ]
    }
  ]
}